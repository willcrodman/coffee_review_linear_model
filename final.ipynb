{
 "cells": [
  {
   "cell_type": "markdown",
   "metadata": {},
   "source": [
    "#  Modeling Coffee Reviewing with Linear Regression\n",
    "### Will Rodman - Final Project - Math 6040 Linear Models\n",
    "\n",
    "This project studies data from [coffeereviews.com](www.coffeereviews.com), which was obtained through web scraping and published on [kaggle.com](www.kaggle.com). The goal is to develop a linear regression model that predicts individual ratings for coffee beans. Additonal quesitons answered about the data include: \n",
    "\n",
    "- What features of a coffee mean determine best a ratings? \n",
    "- Are there types of coffee beans with different tiers of ratings? \n",
    "- Can a linear model be fit to predict coffee bean ratings? \n",
    "\n",
    "Data source: [Link](https://www.kaggle.com/datasets/hanifalirsyad/coffee-scrap-coffeereview/versions/2/data?select=coffee_df.csv)"
   ]
  },
  {
   "cell_type": "markdown",
   "metadata": {},
   "source": [
    "#### Sprint 1: Loading the cleaning the dataset. "
   ]
  },
  {
   "cell_type": "code",
   "execution_count": null,
   "metadata": {},
   "outputs": [],
   "source": []
  }
 ],
 "metadata": {
  "language_info": {
   "name": "python"
  }
 },
 "nbformat": 4,
 "nbformat_minor": 2
}
